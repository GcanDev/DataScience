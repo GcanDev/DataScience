{
 "cells": [
  {
   "cell_type": "markdown",
   "metadata": {},
   "source": [
    "![Spark Logo](http://spark-mooc.github.io/web-assets/images/ta_Spark-logo-small.png) + ![Python Logo](http://spark-mooc.github.io/web-assets/images/python-logo-master-v3-TM-flattened_small.png)\n",
    "## Tasca M5T01 Machine Learning amb Apache Spark i Python\n",
    "### Practica sobre cómo generar un flujo de ejecución en un problema de Machine Learning\n",
    "\n",
    "Esta tarea simula un ejercicio completo de ETL (Extract-Transform-Load) junto a un análisis exploratorio de un dataset real, para posteriormente aplicar differentes algoritmos de aprendizaje automático que resuelvan un problema de regresión.\n",
    "\n",
    "#### Contenido del ejercicio\n",
    "\n",
    "* *Conocimiento del dominio*\n",
    "* *Parte 1: Extracción, transformación y carga [ETL] del dataset* (2 punto sobre 10)\n",
    "* *Parte 2: Explorar los datos* (2 puntos sobre 10)\n",
    "* *Parte 3: Visualizar los datos* (2 puntos sobre 10)\n",
    "* *Parte 4: Preparar los datos* (1 puntos sobre 10)\n",
    "* *Parte 5: Modelar los datos* (3 puntos sobre 10)\n",
    "\n",
    "*Nuestro objetivo será predecir de la forma más exacta posible la energía generada por un conjunto de plantas eléctricas usando los datos generados por un conjunto de sensores.*\n",
    "\n",
    "\n",
    "## Conocimiento del dominio\n",
    "\n",
    "### Background \n",
    "\n",
    "La generación de energía es un proceso complejo, comprenderlo para poder predecir la potencia de salida es un elemento vital en la gestión de una planta energética y su conexión a la red. Los operadores de una red eléctrica regional crean predicciones de la demanda de energía en base a la información histórica y los factores ambientales (por ejemplo, la temperatura). Luego comparan las predicciones con los recursos disponibles (por ejemplo, plantas, carbón, gas natural, nuclear, solar, eólica, hidráulica, etc). Las tecnologías de generación de energía, como la solar o la eólica, dependen en gran medida de las condiciones ambientales, pero todas las centrales eléctricas son objeto de mantenimientos tanto planificados y como puntuales debidos a un problema.\n",
    "\n",
    "En esta tarea usaremos un ejemplo del mundo real sobre la demanda prevista (en dos escalas de tiempo), la demanda real, y los recursos disponibles de la red electrica de California: http://www.caiso.com/Pages/TodaysOutlook.aspx\n",
    "\n",
    "![](http://content.caiso.com/outlook/SP/ems_small.gif)\n",
    "\n",
    "El reto para un operador de red de energía es cómo manejar un déficit de recursos disponibles frente a la demanda real. Hay tres posibles soluciones a un déficit de energía: construir más plantas de energía base (este proceso puede costar muchos anos de planificación y construcción), comprar e importar de otras redes eléctricas regionales energía sobrante (esta opción puede ser muy cara y está limitado por las interconexiones entre las redes de transmisión de energía y el exceso de potencia disponible de otras redes), o activar pequeñas [plantas de pico](https://en.wikipedia.org/wiki/Peaking_power_plant). Debido a que los operadores de red necesitan responder con rapidez a un déficit de energía para evitar un corte del suministro, estos basan sus decisiones en una combinación de las dos últimas opciones. En esta práctica, nos centraremos en la última elección.\n",
    "\n",
    "### La lógica de negocio\n",
    "\n",
    "Debido a que la demanda de energía solo supera a la oferta ocasionalmente, la potencia suministrada por una planta de energía pico tiene un precio mucho más alto por kilovatio hora que la energía generada por las centrales eléctricas base de una red eléctrica. Una planta pico puede operar muchas horas al día, o solo unas pocas horas al año, dependiendo de la condición de la red eléctrica de la región. Debido al alto coste de la construcción de una planta de energía eficiente, si una planta pico solo va a funcionar por un tiempo corto o muy variable, no tiene sentido económico para que sea tan eficiente como una planta de energía base. Además, el equipo y los combustibles utilizados en las plantas base a menudo no son adecuados para uso en plantas de pico.\n",
    "\n",
    "La salida de potencia de una central eléctrica pico varía dependiendo de las condiciones ambientales, por lo que el problema de negocio a resolver se podría describir como _predecir la salida de potencia de una central eléctrica pico en función de la condiciones ambientales_  - ya que esto permitiría al operador de la red hacer compensaciones económicas sobre el número de plantas pico que ha de conectar en cada momento (o si por el contrario le interesa comprar energía más cara de otra red).\n",
    "\n",
    "Una vez descrita esta lógica de negocio, primero debemos proceder a realizar un análisis exploratorio previo y trasladar el problema de negocio (predecir la potencia de salida en función de las condiciones medio ambientales) en un tarea de aprendizaje automático (ML). Por ejemplo, una tarea de ML que podríamos aplicar a este problema es la regresión, ya que tenemos un variable objetivo (dependiente) que es numérica. Para esto usaremos [Apache Spark ML Pipeline](https://spark.apache.org/docs/latest/api/python/pyspark.ml.html#pyspark-ml-package) para calcular dicha regresión.\n",
    "\n",
    "Los datos del mundo real que usaremos en esta tarea se componen de 5 conjuntos de 9.568 puntos de datos, cada uno con 4 atributos ambientales recogidos en una Central de Ciclo Combinado de más de 6 años (2006-2011), proporcionado por la Universidad de California, Irvine en [UCI Machine Learning Repository Combined Cycle Power Plant Data Set](https://archive.ics.uci.edu/ml/datasets/Combined+Cycle+Power+Plant)). Para más detalles sobre el conjunto de datos visitar la página de la UCI, o las siguientes referencias:\n",
    "\n",
    "* Pinar Tufekci, [Prediction of full load electrical power output of a base load operated combined cycle power plant using machine learning methods](http://www.journals.elsevier.com/international-journal-of-electrical-power-and-energy-systems/), International Journal of Electrical Power & Energy Systems, Volume 60, September 2014, Pages 126-140, ISSN 0142-0615.\n",
    "* Heysem Kaya, Pinar Tufekci and Fikret S. Gurgen: [Local and Global Learning Methods for Predicting Power of a Combined Gas & Steam Turbine](http://www.cmpe.boun.edu.tr/~kaya/kaya2012gasturbine.pdf), Proceedings of the International Conference on Emerging Trends in Computer and Electronics Engineering ICETCEE 2012, pp. 13-18 (Mar. 2012, Dubai)."
   ]
  },
  {
   "cell_type": "markdown",
   "metadata": {},
   "source": [
    "**Tarea a realizar durante la primera parte:**\n",
    "\n",
    "Revisar la documentacion y referencias de:\n",
    "* [Spark Machine Learning Pipeline](https://spark.apache.org/docs/latest/ml-guide.html#main-concepts-in-pipelines).\n"
   ]
  },
  {
   "cell_type": "markdown",
   "metadata": {},
   "source": [
    "## Parte 1: Extracción, transformación y carga [ETL] del dataset\n",
    "\n",
    "\n",
    "Ahora que entendemos lo que estamos tratando de hacer, el primer paso consiste en cargar los datos en un formato que podemos consultar y utilizar fácilmente. Esto se conoce como ETL o \"extracción, transformación y carga\". "
   ]
  },
  {
   "cell_type": "markdown",
   "metadata": {},
   "source": [
    "==========================================================================================================================================================================================================\n",
    "### Ejercicio 1(a)\n",
    "\n",
    "Usaremos PySpark para visualizar las 5 primeras líneas de los datos\n",
    "\n",
    "*Hint*: Primero crea un RDD a partir de los datos usando [`sc.textFile()`](https://spark.apache.org/docs/latest/api/python/pyspark.html#pyspark.SparkContext.textFile).\n",
    "\n",
    "*Hint*: Luego piensa como usar el RDD creado para mostrar datos, el método [`take()`](https://spark.apache.org/docs/latest/api/python/pyspark.html#pyspark.RDD.take) puede ser una buena opción a considerar."
   ]
  },
  {
   "cell_type": "code",
   "execution_count": 1,
   "metadata": {},
   "outputs": [
    {
     "name": "stdout",
     "output_type": "stream",
     "text": [
      "23/03/13 22:47:11 WARN Utils: Your hostname, MacBook-Pro-de-Gerard.local resolves to a loopback address: 127.0.0.1; using 192.168.1.12 instead (on interface en0)\n",
      "23/03/13 22:47:11 WARN Utils: Set SPARK_LOCAL_IP if you need to bind to another address\n"
     ]
    },
    {
     "name": "stderr",
     "output_type": "stream",
     "text": [
      "Setting default log level to \"WARN\".\n",
      "To adjust logging level use sc.setLogLevel(newLevel). For SparkR, use setLogLevel(newLevel).\n"
     ]
    },
    {
     "name": "stdout",
     "output_type": "stream",
     "text": [
      "23/03/13 22:47:12 WARN NativeCodeLoader: Unable to load native-hadoop library for your platform... using builtin-java classes where applicable\n"
     ]
    },
    {
     "name": "stderr",
     "output_type": "stream",
     "text": [
      "\r",
      "[Stage 0:>                                                          (0 + 1) / 1]\r"
     ]
    },
    {
     "name": "stdout",
     "output_type": "stream",
     "text": [
      "['AT;V;AP;RH;PE', '14.96;41.76;1024.07;73.17;463.26', '25.18;62.96;1020.04;59.08;444.37', '5.11;39.4;1012.16;92.14;488.56', '20.86;57.32;1010.24;76.64;446.48']\n"
     ]
    },
    {
     "name": "stderr",
     "output_type": "stream",
     "text": [
      "\r",
      "                                                                                \r"
     ]
    }
   ],
   "source": [
    "# TODO: Load the data and print the first five lines.\n",
    "import findspark\n",
    "findspark.init()\n",
    "import pyspark\n",
    "import random\n",
    "import os.path\n",
    "sc = pyspark.SparkContext(master=\"local[1]\",appName='M5_Gerard')\n",
    "\n",
    "data = sc.textFile(\"Dades_Folds5x2_pp.csv\")\n",
    "# Imprimir las primeras 5 líneas\n",
    "print(data.take(5))\n",
    "\n",
    "\n"
   ]
  },
  {
   "cell_type": "markdown",
   "metadata": {},
   "source": [
    "A partir nuestra exploración inicial de una muestra de los datos, podemos hacer varias observaciones sobre el proceso de ETL:\n",
    "- Los datos son un conjunto de .csv (archivos con valores separados por coma o punto y coma) \n",
    "- Hay una fila de cabecera, que es el nombre de las columnas\n",
    "- Parece que el tipo de los datos en cada columna es constante (es decir, cada columna es de tipo double)\n",
    "\n",
    "El esquema de datos que hemos obtenido de UCI es:\n",
    "- AT = Atmospheric Temperature in C\n",
    "- V = Exhaust Vacuum Speed\n",
    "- AP = Atmospheric Pressure\n",
    "- RH = Relative Humidity\n",
    "- PE = Power Output.  Esta es la variable dependiente que queremos predecir usando los otras cuatro\n",
    "\n",
    "Para usar el paquete Spark CSV, usaremos el método [sqlContext.read.format()](https://spark.apache.org/docs/latest/api/python/pyspark.sql.html#pyspark.sql.DataFrameReader.format) para especificar el formato de la fuente de datos de entrada: `'csv'`\n",
    "\n",
    "Podemos especificar diferentes opciones de como importar los datos usando el método [options()](https://spark.apache.org/docs/latest/api/python/pyspark.sql.html#pyspark.sql.DataFrameReader.options).\n",
    "\n",
    "Usaremos las siguientes opciones:\n",
    "- `delimiter=';'` porque nuestros datos se encuentran delimitados por punto y coma\n",
    "- `header='true'` porque nuestro dataset tiene una fila que representa la cabecera de los datos\n",
    "- `inferschema='true'` porque creemos que todos los datos son números reales, por lo tanto la librería puede inferir el tipo de cada columna de forma automática.\n",
    "\n",
    "El ultimo componente necesario para crear un DataFrame es determinar la ubicación de los datos usando el método [load()](https://spark.apache.org/docs/latest/api/python/pyspark.sql.html#pyspark.sql.DataFrameReader.load).\n",
    "\n",
    "Juntando todo, usaremos la siguiente operación:\n",
    "\n",
    "`sqlContext.read.format().options().load()`"
   ]
  },
  {
   "cell_type": "markdown",
   "metadata": {},
   "source": [
    "### Ejercicio 1(b)\n",
    "\n",
    "Crear un DataFrame a partir de los datos.\n",
    "- El formato es csv\n",
    "\n",
    "En el campo opciones incluiremos 3, formadas por nombre de opción y valor, separadas por punto y coma.\n",
    "- El separador es el tabulador\n",
    "- El fichero contiene cabecera 'header'\n",
    "- Para crear un dataframe necesitamos un esquema (schema). A partir de los datos Spark puede tratar de inferir el esquema, le diremos 'true'.\n",
    "\n",
    "El directorio a cargar es el especificado anteriormente. Es importante indicarle a Spark que es una ubicación ya montada en el sistema dbfs, como se ha mostrado en el ejercicio 2a."
   ]
  },
  {
   "cell_type": "code",
   "execution_count": 2,
   "metadata": {},
   "outputs": [
    {
     "name": "stderr",
     "output_type": "stream",
     "text": [
      "/Users/gerardmartinez/opt/anaconda3/lib/python3.9/site-packages/pyspark/sql/context.py:112: FutureWarning: Deprecated in 3.0.0. Use SparkSession.builder.getOrCreate() instead.\n",
      "  warnings.warn(\n"
     ]
    },
    {
     "data": {
      "text/plain": [
       "pyspark.sql.dataframe.DataFrame"
      ]
     },
     "execution_count": 2,
     "metadata": {},
     "output_type": "execute_result"
    }
   ],
   "source": [
    "# TODO: Replace <FILL_IN> with the appropriate code.\n",
    "\n",
    "from pyspark.sql import SQLContext\n",
    "sqlContext = SQLContext(sc)\n",
    "#To stop spark context sc.stop()\n",
    "powerPlantDF = sqlContext.read.format('csv').options(delimiter=';', header='true', inferSchema='true').load(\"Dades_Folds5x2_pp.csv\")\n",
    "type(powerPlantDF)"
   ]
  },
  {
   "cell_type": "code",
   "execution_count": 3,
   "metadata": {},
   "outputs": [],
   "source": [
    "# TEST\n",
    "expected = set([(s, 'double') for s in ('AP', 'AT', 'PE', 'RH', 'V')])\n",
    "assert expected==set(powerPlantDF.dtypes), \"Incorrect schema for powerPlantDF\""
   ]
  },
  {
   "cell_type": "markdown",
   "metadata": {},
   "source": [
    "Vamos a comprobar los tipos de las columnas usando el metodo [dtypes](https://spark.apache.org/docs/1.6.2/api/python/pyspark.sql.html#pyspark.sql.DataFrame.dtypes)."
   ]
  },
  {
   "cell_type": "code",
   "execution_count": 4,
   "metadata": {},
   "outputs": [
    {
     "name": "stdout",
     "output_type": "stream",
     "text": [
      "[('AT', 'double'), ('V', 'double'), ('AP', 'double'), ('RH', 'double'), ('PE', 'double')]\n"
     ]
    }
   ],
   "source": [
    "print(powerPlantDF.dtypes)"
   ]
  },
  {
   "cell_type": "markdown",
   "metadata": {},
   "source": [
    "Tambien podemos examinar los datos usando el metodo `show()`."
   ]
  },
  {
   "cell_type": "code",
   "execution_count": 5,
   "metadata": {},
   "outputs": [
    {
     "name": "stdout",
     "output_type": "stream",
     "text": [
      "+-----+-----+-------+-----+------+\n",
      "|   AT|    V|     AP|   RH|    PE|\n",
      "+-----+-----+-------+-----+------+\n",
      "|14.96|41.76|1024.07|73.17|463.26|\n",
      "|25.18|62.96|1020.04|59.08|444.37|\n",
      "| 5.11| 39.4|1012.16|92.14|488.56|\n",
      "|20.86|57.32|1010.24|76.64|446.48|\n",
      "|10.82| 37.5|1009.23|96.62| 473.9|\n",
      "|26.27|59.44|1012.23|58.77|443.67|\n",
      "|15.89|43.96|1014.02|75.24|467.35|\n",
      "| 9.48|44.71|1019.12|66.43|478.42|\n",
      "|14.64| 45.0|1021.78|41.25|475.98|\n",
      "|11.74|43.56|1015.14|70.72| 477.5|\n",
      "|17.99|43.72|1008.64|75.04|453.02|\n",
      "|20.14|46.93|1014.66|64.22|453.99|\n",
      "|24.34| 73.5|1011.31|84.15|440.29|\n",
      "|25.71|58.59|1012.77|61.83|451.28|\n",
      "|26.19|69.34|1009.48|87.59|433.99|\n",
      "|21.42|43.79|1015.76|43.08|462.19|\n",
      "|18.21| 45.0|1022.86|48.84|467.54|\n",
      "|11.04|41.74| 1022.6|77.51| 477.2|\n",
      "|14.45|52.75|1023.97|63.59|459.85|\n",
      "|13.97|38.47|1015.15|55.28| 464.3|\n",
      "+-----+-----+-------+-----+------+\n",
      "only showing top 20 rows\n",
      "\n"
     ]
    }
   ],
   "source": [
    "powerPlantDF.show()"
   ]
  },
  {
   "cell_type": "markdown",
   "metadata": {},
   "source": [
    "Ahora en lugar de usar [spark csv](https://spark.apache.org/docs/latest/api/python/pyspark.sql.html) para inferir (inferSchema()) los tipos de las columnas, especificaremos el esquema como [DataType](https://spark.apache.org/docs/latest/api/python/pyspark.sql.html#pyspark.sql.types.DataType), el cual es una lista de [StructField](https://spark.apache.org/docs/latest/api/python/pyspark.sql.html#pyspark.sql.types.StructType).\n",
    "\n",
    "La lista completa de tipos se encuentra en el modulo [pyspark.sql.types](https://spark.apache.org/docs/latest/api/python/pyspark.sql.html#module-pyspark.sql.types). Para nuestros datos, usaremos [DoubleType()](https://spark.apache.org/docs/latest/api/python/pyspark.sql.html#pyspark.sql.types.DoubleType).\n",
    "\n",
    "Por ejemplo, para especificar cual es el nombre de la columna usaremos: `StructField(`_name_`,` _type_`, True)`. (El tercer parámetro, `True`, significa que permitimos que la columna tenga valores null.)\n",
    "\n",
    "### Ejercicio 1(c)\n",
    "\n",
    "Crea un esquema a medida para el dataset."
   ]
  },
  {
   "cell_type": "code",
   "execution_count": 6,
   "metadata": {},
   "outputs": [],
   "source": [
    "# TO DO: Fill in the custom schema.\n",
    "from pyspark.sql.types import *\n",
    "\n",
    "# Custom Schema for Power Plant\n",
    "customSchema = StructType([\n",
    "    StructField(\"AT\", DoubleType(), True),\n",
    "    StructField(\"V\", DoubleType(), True),\n",
    "    StructField(\"AP\", DoubleType(), True),\n",
    "    StructField(\"RH\", DoubleType(), True),\n",
    "    StructField(\"PE\", DoubleType(), True)\n",
    "])\n"
   ]
  },
  {
   "cell_type": "code",
   "execution_count": 7,
   "metadata": {},
   "outputs": [],
   "source": [
    "# TEST\n",
    "assert set([f.name for f in customSchema.fields])==set(['AT', 'V', 'AP', 'RH', 'PE']), 'Incorrect column names in schema.'\n",
    "assert set([f.dataType for f in customSchema.fields])==set([DoubleType(), DoubleType(), DoubleType(), DoubleType(), DoubleType()]), 'Incorrect column types in schema.'"
   ]
  },
  {
   "cell_type": "markdown",
   "metadata": {},
   "source": [
    "### Exercicio 1(d)\n",
    "\n",
    "Ahora, usaremos el esquema que acabamos de crear para leer los datos. Para realizar esta operación, modificaremos el paso anterior `sqlContext.read.format`. Podemos especificar el esquema haciendo:\n",
    "- Anadir `schema = customSchema` al método load (simplemente anadelo usando una coma justo después del nombre del archivo)\n",
    "- Eliminado la opción `inferschema='true'` ya que ahora especificamos el esquema que han de seguir los datos"
   ]
  },
  {
   "cell_type": "code",
   "execution_count": 8,
   "metadata": {},
   "outputs": [],
   "source": [
    "# TODO: Use the schema you created above to load the data again.\n",
    "altPowerPlantDF = sqlContext.read.format(\"csv\").options(header=\"true\", delimiter=\";\").schema(customSchema).load(\"Dades_Folds5x2_pp.csv\")"
   ]
  },
  {
   "cell_type": "code",
   "execution_count": 9,
   "metadata": {},
   "outputs": [],
   "source": [
    "# TEST\n",
    "\n",
    "expected = set([(s, 'double') for s in ('AP', 'AT', 'PE', 'RH', 'V')])\n",
    "assert expected==set(altPowerPlantDF.dtypes), \"Incorrect schema for powerPlantDF\""
   ]
  },
  {
   "cell_type": "markdown",
   "metadata": {},
   "source": [
    "Es importante darse cuenta que esta vez no se ha ejecutado ningún job de Spark. Esto se debe a que hemos especificado el esquema, por tanto el paquete [spark-csv](https://spark.apache.org/docs/latest/api/python/pyspark.sql.html) no tiene por qué leer los datos para inferir el esquema. Podemos usar el método [dtypes](https://spark.apache.org/docs/latest/api/python/pyspark.sql.html#pyspark.sql.DataFrame.dtypes) para examinar el nombre y el tipo de los atributos del dataset. Estos deberían ser idénticos a los que hemos inferido anteriormente de los datos.\n",
    "\n",
    "Cuando ejecutes la siguiente celda, los datos no deberían leerse."
   ]
  },
  {
   "cell_type": "code",
   "execution_count": 10,
   "metadata": {},
   "outputs": [
    {
     "name": "stdout",
     "output_type": "stream",
     "text": [
      "[('AT', 'double'), ('V', 'double'), ('AP', 'double'), ('RH', 'double'), ('PE', 'double')]\n"
     ]
    }
   ],
   "source": [
    "print(altPowerPlantDF.dtypes)"
   ]
  },
  {
   "cell_type": "markdown",
   "metadata": {},
   "source": [
    "Ahora podemos examinar los datos utilizando el método `show()`. \n",
    "* Ten en cuenta que esta operación hará que los datos que se lean y se creara el DataFrame. *"
   ]
  },
  {
   "cell_type": "code",
   "execution_count": 11,
   "metadata": {},
   "outputs": [
    {
     "name": "stdout",
     "output_type": "stream",
     "text": [
      "+-----+-----+-------+-----+------+\n",
      "|   AT|    V|     AP|   RH|    PE|\n",
      "+-----+-----+-------+-----+------+\n",
      "|14.96|41.76|1024.07|73.17|463.26|\n",
      "|25.18|62.96|1020.04|59.08|444.37|\n",
      "| 5.11| 39.4|1012.16|92.14|488.56|\n",
      "|20.86|57.32|1010.24|76.64|446.48|\n",
      "|10.82| 37.5|1009.23|96.62| 473.9|\n",
      "|26.27|59.44|1012.23|58.77|443.67|\n",
      "|15.89|43.96|1014.02|75.24|467.35|\n",
      "| 9.48|44.71|1019.12|66.43|478.42|\n",
      "|14.64| 45.0|1021.78|41.25|475.98|\n",
      "|11.74|43.56|1015.14|70.72| 477.5|\n",
      "|17.99|43.72|1008.64|75.04|453.02|\n",
      "|20.14|46.93|1014.66|64.22|453.99|\n",
      "|24.34| 73.5|1011.31|84.15|440.29|\n",
      "|25.71|58.59|1012.77|61.83|451.28|\n",
      "|26.19|69.34|1009.48|87.59|433.99|\n",
      "|21.42|43.79|1015.76|43.08|462.19|\n",
      "|18.21| 45.0|1022.86|48.84|467.54|\n",
      "|11.04|41.74| 1022.6|77.51| 477.2|\n",
      "|14.45|52.75|1023.97|63.59|459.85|\n",
      "|13.97|38.47|1015.15|55.28| 464.3|\n",
      "+-----+-----+-------+-----+------+\n",
      "only showing top 20 rows\n",
      "\n"
     ]
    }
   ],
   "source": [
    "altPowerPlantDF.show()"
   ]
  },
  {
   "cell_type": "markdown",
   "metadata": {},
   "source": [
    "## Parte 2: Explorar tus Datos\n",
    "### Ejercicio 2(a)\n",
    "\n",
    "Ahora que ya hemos cargado los datos, el siguiente paso es explorarlos y realizar algunos análisis y visualizaciones básicas.\n",
    "\n",
    "Este es un paso que siempre se debe realizar **antes de** intentar ajustar un modelo a los datos, ya que este paso muchas veces nos permitirá conocer una gran información sobre los datos."
   ]
  },
  {
   "cell_type": "markdown",
   "metadata": {},
   "source": [
    "En primer lugar vamos a registrar nuestro DataFrame como una tabla de SQL llamado `power_plant`. Debido a que es posible que repitas esta práctica varias veces, vamos a tomar la precaución de eliminar cualquier tabla existente en primer lugar.\n",
    "\n",
    "Una vez ejecutado el paso anterior, podemos registrar nuestro DataFrame como una tabla de SQL usando [sqlContext.registerDataFrameAsTable()](https://spark.apache.org/docs/latest/api/python/pyspark.sql.html#pyspark.sql.SQLContext.registerDataFrameAsTable)."
   ]
  },
  {
   "cell_type": "markdown",
   "metadata": {},
   "source": [
    "Crea una tabla llamada `power_plant` con las indicaciones mostradas."
   ]
  },
  {
   "cell_type": "code",
   "execution_count": 12,
   "metadata": {},
   "outputs": [],
   "source": [
    "sqlContext.sql(\"DROP TABLE IF EXISTS power_plant\")\n",
    "sqlContext.registerDataFrameAsTable(altPowerPlantDF, \"power_plant\")"
   ]
  },
  {
   "cell_type": "markdown",
   "metadata": {},
   "source": [
    "Ahora que nuestro DataFrame existe como una tabla SQL, podemos explorarlo utilizando comandos SQL y `sqlContext.sql(...)`. Utiliza la función `show()` para visualizar el resultado del dataframe."
   ]
  },
  {
   "cell_type": "code",
   "execution_count": 13,
   "metadata": {},
   "outputs": [
    {
     "name": "stdout",
     "output_type": "stream",
     "text": [
      "+-----+-----+-------+-----+------+\n",
      "|   AT|    V|     AP|   RH|    PE|\n",
      "+-----+-----+-------+-----+------+\n",
      "|14.96|41.76|1024.07|73.17|463.26|\n",
      "|25.18|62.96|1020.04|59.08|444.37|\n",
      "| 5.11| 39.4|1012.16|92.14|488.56|\n",
      "|20.86|57.32|1010.24|76.64|446.48|\n",
      "|10.82| 37.5|1009.23|96.62| 473.9|\n",
      "|26.27|59.44|1012.23|58.77|443.67|\n",
      "|15.89|43.96|1014.02|75.24|467.35|\n",
      "| 9.48|44.71|1019.12|66.43|478.42|\n",
      "|14.64| 45.0|1021.78|41.25|475.98|\n",
      "|11.74|43.56|1015.14|70.72| 477.5|\n",
      "|17.99|43.72|1008.64|75.04|453.02|\n",
      "|20.14|46.93|1014.66|64.22|453.99|\n",
      "|24.34| 73.5|1011.31|84.15|440.29|\n",
      "|25.71|58.59|1012.77|61.83|451.28|\n",
      "|26.19|69.34|1009.48|87.59|433.99|\n",
      "|21.42|43.79|1015.76|43.08|462.19|\n",
      "|18.21| 45.0|1022.86|48.84|467.54|\n",
      "|11.04|41.74| 1022.6|77.51| 477.2|\n",
      "|14.45|52.75|1023.97|63.59|459.85|\n",
      "|13.97|38.47|1015.15|55.28| 464.3|\n",
      "+-----+-----+-------+-----+------+\n",
      "only showing top 20 rows\n",
      "\n"
     ]
    }
   ],
   "source": [
    "altPowerPlantDF.show()"
   ]
  },
  {
   "cell_type": "markdown",
   "metadata": {},
   "source": [
    "Usa el comando `printschema` para describir el esquema del dataframe."
   ]
  },
  {
   "cell_type": "code",
   "execution_count": 14,
   "metadata": {},
   "outputs": [
    {
     "name": "stdout",
     "output_type": "stream",
     "text": [
      "root\n",
      " |-- AT: double (nullable = true)\n",
      " |-- V: double (nullable = true)\n",
      " |-- AP: double (nullable = true)\n",
      " |-- RH: double (nullable = true)\n",
      " |-- PE: double (nullable = true)\n",
      "\n"
     ]
    }
   ],
   "source": [
    "altPowerPlantDF.printSchema()"
   ]
  },
  {
   "cell_type": "markdown",
   "metadata": {},
   "source": [
    "**Definición de Esquema**\n",
    "\n",
    "Una vez más, nuestro esquema es el siguiente:\n",
    "\n",
    "- AT = Atmospheric Temperature in C\n",
    "- V = Exhaust Vacuum Speed\n",
    "- AP = Atmospheric Pressure\n",
    "- RH = Relative Humidity\n",
    "- PE = Power Output\n",
    "\n",
    "PE es nuestra variable objetivo. Este es el valor que intentamos predecir usando las otras mediciones.\n",
    "\n",
    "*Referencia [UCI Machine Learning Repository Combined Cycle Power Plant Data Set](https://archive.ics.uci.edu/ml/datasets/Combined+Cycle+Power+Plant)*"
   ]
  },
  {
   "cell_type": "markdown",
   "metadata": {},
   "source": [
    "Podemos obtener el DataFrame asociado a una tabla SQL usando el método [sqlContext.table()](https://spark.apache.org/docs/latest/api/python/pyspark.sql.html#pyspark.sql.DataFrameReader.table) pasando como argumento el nombre de la tabla SQL."
   ]
  },
  {
   "cell_type": "markdown",
   "metadata": {},
   "source": [
    "### Ejercicio 2(b)"
   ]
  },
  {
   "cell_type": "markdown",
   "metadata": {},
   "source": [
    "Ahora vamos a realizar un análisis estadístico básico de todas las columnas.\n",
    "\n",
    "Calculad y mostrad los resultados en modo tabla (la función `show()` os puede ser de ayuda):\n",
    "* Número de registros en nuestros datos\n",
    "* Media de cada columna\n",
    "* Máximo y mínimo de cada columna\n",
    "* Desviación estándar de cada columna\n",
    "\n",
    "Hint: Revisad [DataFrame](https://spark.apache.org/docs/latest/api/python/pyspark.sql.html#pyspark.sql.DataFrame) ya que contiene métodos que permiten realizar dichos cálculos de manera sencilla."
   ]
  },
  {
   "cell_type": "code",
   "execution_count": 15,
   "metadata": {},
   "outputs": [
    {
     "name": "stdout",
     "output_type": "stream",
     "text": [
      "+-------+------------------+------------------+------------------+-----------------+------------------+\n",
      "|summary|                AT|                 V|                AP|               RH|                PE|\n",
      "+-------+------------------+------------------+------------------+-----------------+------------------+\n",
      "|  count|             47840|             47840|             47840|            47840|             47840|\n",
      "|   mean|19.651231187290833| 54.30580372073524|1013.2590781772577| 73.3089778428094|454.36500940635983|\n",
      "| stddev|7.4521616583400085|12.707361709685806| 5.938535418520848|14.59965835208147|17.066281466837733|\n",
      "|    min|              1.81|             25.36|            992.89|            25.56|            420.26|\n",
      "|    max|             37.11|             81.56|            1033.3|           100.16|            495.76|\n",
      "+-------+------------------+------------------+------------------+-----------------+------------------+\n",
      "\n"
     ]
    }
   ],
   "source": [
    "# Visualización de datos estadísticos básicos de nuestro dataset\n",
    "df = sqlContext.table(\"power_plant\")\n",
    "df.describe().show()"
   ]
  },
  {
   "cell_type": "markdown",
   "metadata": {},
   "source": [
    "## Parte 3: Visualizar los datos\n",
    "\n",
    "Para entender nuestros datos, intentamos buscar correlaciones entre las diferentes características y sus correspondientes etiquetas. Esto puede ser importante cuando seleccionamos un modelo. Por ejemplo, si una etiqueta y sus características se correlacionan de forma lineal, un modelo de regresión lineal obtendrá un buen rendimiento; por el contrario si la relación es no lineal, modelos más complejos, como arboles de decisión pueden ser una mejor opción. Podemos utilizar herramientas de visualización para observar cada uno de los posibles predictores en relación con la etiqueta como un gráfico de dispersión para ver la correlación entre ellos.\n",
    "\n",
    "==========================================================================================================================================================================================================\n",
    "### Ejercicio 3(a)\n",
    "\n",
    "#### Añade las siguientes figuras: \n",
    "Vamos a ver si hay una correlación entre la temperatura y la potencia de salida. Podemos utilizar una consulta SQL para crear una nueva tabla que contenga solo el de temperatura (AT) y potencia (PE), y luego usar un gráfico de dispersión con la temperatura en el eje X y la potencia en el eje Y para visualizar la relación (si la hay) entre la temperatura y la energía.\n",
    "\n",
    "Realiza los siguientes pasos:\n",
    "- Carga una muestra de datos aleatorios de 1000 pares de valores para PE y AT. Puedes utilizar una ordenación aleatoria o un sample() sobre el resultado. Para hacer el plot puedes hacer un collect().\n",
    "- Utiliza matplotlib y Pandas para hacer un scatter plot (https://matplotlib.org/3.1.1/api/_as_gen/matplotlib.pyplot.scatter.html)"
   ]
  },
  {
   "cell_type": "code",
   "execution_count": 16,
   "metadata": {},
   "outputs": [
    {
     "data": {
      "image/png": "[encoded data removed]",
      "text/plain": [
       "<Figure size 432x288 with 1 Axes>"
      ]
     },
     "metadata": {
      "needs_background": "light"
     },
     "output_type": "display_data"
    }
   ],
   "source": [
    "from matplotlib import pyplot as plt\n",
    "import pandas as pd\n",
    "from pyspark.sql.functions import rand \n",
    "\n",
    "#obtenemos una muestra aleatoria de 1000 pares de valores de PE y AT\n",
    "x_y = sqlContext.sql(\"SELECT AT, PE FROM power_plant ORDER BY rand()\").limit(1000).collect()\n",
    "#convertimos la muestra en un DataFrame de Pandas\n",
    "x_y_DF = pd.DataFrame(x_y, columns=['AT', 'PE'])\n",
    "#dibujamos los valores de AT y PE\n",
    "plt.scatter(x_y_DF['AT'], x_y_DF['PE'])\n",
    "\n",
    "#OPCIONES DE MATPLOTLIB - Titulo, x-y-label...\n",
    "plt.title('Correlación entre la temperatura (AT) y la potencia de salida (PE)')\n",
    "plt.xlabel('Temperatura (AT)')\n",
    "plt.ylabel('Potencia de salida (PE)')\n",
    "\n",
    "plt.show()\n"
   ]
  },
  {
   "cell_type": "markdown",
   "metadata": {},
   "source": [
    "Parece que hay una gran correlación entre temperatura y power output. Esta correlación es esperable gracias a la segunda ley de la termodinamica [thermal efficiency](https://en.wikipedia.org/wiki/Thermal_efficiency). Ir más allá en este análisis queda fuera del ámbito de esta práctica."
   ]
  },
  {
   "cell_type": "markdown",
   "metadata": {},
   "source": [
    "### Ejercicio 3(b)\n",
    "\n",
    "Repitiendo el proceso anterior, usa una sentencia SQL para crear un gráfico de dispersión entre las variables Power (PE) y Exhaust Vacuum Speed (V)."
   ]
  },
  {
   "cell_type": "code",
   "execution_count": 17,
   "metadata": {},
   "outputs": [
    {
     "data": {
      "image/png": "[encoded data removed]",
      "text/plain": [
       "<Figure size 432x288 with 1 Axes>"
      ]
     },
     "metadata": {
      "needs_background": "light"
     },
     "output_type": "display_data"
    }
   ],
   "source": [
    "from matplotlib import pyplot as plt\n",
    "import pandas as pd\n",
    "\n",
    "x_y = sqlContext.sql(\"SELECT PE, V FROM power_plant ORDER BY rand()\").limit(1000).collect()\n",
    "x_y_DF = pd.DataFrame(x_y, columns=[\"PE\", \"V\"])\n",
    "plt.scatter(x_y_DF[\"V\"], x_y_DF[\"PE\"])\n",
    "plt.title(\"Scatter plot of Power (PE) vs Exhaust Vacuum Speed (V)\")\n",
    "plt.xlabel(\"Exhaust Vacuum Speed (V)\")\n",
    "plt.ylabel(\"Power (PE)\")\n",
    "plt.show()\n"
   ]
  },
  {
   "cell_type": "markdown",
   "metadata": {},
   "source": [
    "Ahora vamos a repetir este ejercicio con el resto de variables y la etiqueta Power Output.\n",
    "\n",
    "### Ejercicio 3(c)\n",
    "\n",
    "Usa una sentencia SQL para crear un gráfico de dispersión entre las variables Power (PE) y Pressure (AP)."
   ]
  },
  {
   "cell_type": "code",
   "execution_count": 18,
   "metadata": {},
   "outputs": [
    {
     "data": {
      "image/png": "[encoded data removed]",
      "text/plain": [
       "<Figure size 432x288 with 1 Axes>"
      ]
     },
     "metadata": {
      "needs_background": "light"
     },
     "output_type": "display_data"
    }
   ],
   "source": [
    "from matplotlib import pyplot as plt\n",
    "import pandas as pd\n",
    "\n",
    "# Selección de datos de muestra\n",
    "sample = sqlContext.sql(\"SELECT PE, AP FROM power_plant ORDER BY RAND() LIMIT 1000\").collect()\n",
    "\n",
    "# Creación de DataFrame de Pandas\n",
    "sample_df = pd.DataFrame(sample, columns=['PE', 'AP'])\n",
    "\n",
    "# Gráfico de dispersión\n",
    "plt.scatter(sample_df['AP'], sample_df['PE'])\n",
    "plt.title('Power Output vs. Atmospheric Pressure')\n",
    "plt.xlabel('Atmospheric Pressure (AP)')\n",
    "plt.ylabel('Power Output (PE)')\n",
    "plt.show()\n"
   ]
  },
  {
   "cell_type": "markdown",
   "metadata": {},
   "source": [
    "### Ejercicio 3(d)\n",
    "\n",
    "Usa una sentencia SQL para crear un gráfico de dispersión entre las variables Power (PE) y Humidity (RH)."
   ]
  },
  {
   "cell_type": "code",
   "execution_count": 19,
   "metadata": {},
   "outputs": [
    {
     "data": {
      "image/png": "[encoded data removed]",
      "text/plain": [
       "<Figure size 432x288 with 1 Axes>"
      ]
     },
     "metadata": {
      "needs_background": "light"
     },
     "output_type": "display_data"
    }
   ],
   "source": [
    "x_y = sqlContext.sql(\"SELECT PE, RH FROM power_plant ORDER BY rand() LIMIT 1000\").collect()\n",
    "x_y_DF = pd.DataFrame(x_y, columns=[\"PE\", \"RH\"])\n",
    "plt.scatter(x_y_DF[\"RH\"], x_y_DF[\"PE\"])\n",
    "plt.title(\"Power Output vs. Humidity\")\n",
    "plt.xlabel(\"Humidity\")\n",
    "plt.ylabel(\"Power Output\")\n",
    "plt.show()\n"
   ]
  },
  {
   "cell_type": "markdown",
   "metadata": {},
   "source": [
    "## Parte 4: Preparación de los datos\n",
    "\n",
    "El siguiente paso es preparar los datos para aplicar la regresión. Dado que todo el dataset es numérico y consistente, esta será una tarea sencilla y directa.\n",
    "\n",
    "El objetivo es utilizar el método de regresión para determinar una función que nos de la potencia de salida como una función de un conjunto de características de predicción. El primer paso en la construcción de nuestra regresión es convertir las características de predicción de nuestro DataFrame a un vector de características utilizando el método [pyspark.ml.feature.VectorAssembler()](https://spark.apache.org/docs/latest/api/python/pyspark.ml.html#pyspark.ml.feature.VectorAssembler).\n",
    "\n",
    "El VectorAssembler es una transformación que combina una lista dada de columnas en un único vector. Esta transformación es muy útil cuando queremos combinar características en crudo de los datos con otras generadas al aplicar diferentes funciones sobre los datos en un único vector de características. Para integrar en un único vector toda esta información antes de ejecutar un algoritmo de aprendizaje automático, el VectorAssembler toma una lista con los nombres de las columnas de entrada (lista de strings) y el nombre de la columna de salida (string)."
   ]
  },
  {
   "cell_type": "markdown",
   "metadata": {},
   "source": [
    "==========================================================================================================================================================================================================\n",
    "### Ejercicio 4\n",
    "\n",
    "- Leer la documentación y los ejemplos de uso de [VectorAssembler](https://spark.apache.org/docs/latest/ml-features.html#vectorassembler)\n",
    "- Convertir la tabla SQL `power_plant` en un `dataset` llamado datasetDF\n",
    "- Establecer las columnas de entrada del VectorAssember: `[\"AT\", \"V\", \"AP\", \"RH\"]`\n",
    "- Establecer la columnas de salida como `\"features\"`"
   ]
  },
  {
   "cell_type": "code",
   "execution_count": 20,
   "metadata": {},
   "outputs": [
    {
     "data": {
      "text/plain": [
       "VectorAssembler_86c1c749906a"
      ]
     },
     "execution_count": 20,
     "metadata": {},
     "output_type": "execute_result"
    }
   ],
   "source": [
    "# TODO: Replace <FILL_IN> with the appropriate code\n",
    "from pyspark.ml.feature import VectorAssembler\n",
    "\n",
    "datasetDF = sqlContext.table(\"power_plant\")\n",
    "\n",
    "# Transformar las columnas en un solo vector\n",
    "vectorizer = VectorAssembler()\n",
    "vectorizer.setInputCols([\"AT\", \"V\", \"AP\", \"RH\"])\n",
    "vectorizer.setOutputCol(\"features\")"
   ]
  },
  {
   "cell_type": "code",
   "execution_count": 21,
   "metadata": {},
   "outputs": [],
   "source": [
    "# TEST\n",
    "assert set(vectorizer.getInputCols())== {\"AT\", \"V\", \"AP\", \"RH\"}, \"Incorrect vectorizer input columns\"\n",
    "assert vectorizer.getOutputCol()==\"features\", \"Incorrect vectorizer output column\""
   ]
  },
  {
   "cell_type": "markdown",
   "metadata": {},
   "source": [
    "## Parte 5: Modelar los datos\n",
    "\n",
    "Ahora vamos a modelar nuestros datos para predecir que potencia de salida se dara cuando tenemos una serie de lecturas de los sensores\n",
    "\n",
    "La API de [Apache Spark MLlib](https://spark.apache.org/docs/latest/api/python/pyspark.ml.html#module-pyspark.ml) ofrece diferentes implementaciones de técnicas de regresion para modelar datasets. Ene ste ejercicio vamos a modelar nuestros datos para predecir que potencia de salida se dara cuando tenemos una serie de lecturas de los sensores basándonos en una simple regresion lineal ya que vimos algunos patrones lineales en nuestros datos en los graficos de dispersion durante la etapa de exploracion.\n",
    "\n",
    "Necesitamos una forma de evaluar como de bien nuestro modelo de [regresion lineal](https://spark.apache.org/docs/latest/api/python/pyspark.ml.html#pyspark.ml.regression.LinearRegression) predice la produccion de potencia en funcion de parametros de entrada. Podemos hacer esto mediante la division de nuestros datos iniciales establecidos en un _Training set_ utilizado para entrenar a nuestro modelo y un _Test set_ utilizado para evaluar el rendimiento de nuestro modelo. Podemos usar el metodo nativo de los DataFrames [randomSplit()](https://spark.apache.org/docs/latest/api/python/pyspark.sql.html#pyspark.sql.DataFrame.randomSplit) para dividir nuestro dataset. El metodo toma una lista de pesos y una semilla aleatoria opcional. La semilla se utiliza para inicializar el generador de numeros aleatorios utilizado por la funcion de division.\n",
    "\n",
    "NOTA: Animamos a los alumnos a explorar las diferentes técnicas de regresión disponibles en la [API ML de Spark](https://spark.apache.org/docs/latest/api/python/pyspark.ml.html#module-pyspark.ml.classification)"
   ]
  },
  {
   "cell_type": "markdown",
   "metadata": {},
   "source": [
    "==========================================================================================================================================================================================================\n",
    "### Ejercicio 5(a)\n",
    "\n",
    "Utiliza el método [randomSplit()](https://spark.apache.org/docs/latest/api/python/pyspark.sql.html#pyspark.sql.DataFrame.randomSplit) para dividir `datasetDF` en trainingSetDF (80% del DataFrame de entrada) y testSetDF (20% del DataFrame de entrada), para poder reproducir siempre el mismo resultado, usar la semilla 1800009193. Finalmente, cachea (cache()) cada datafrane en memoria para maximizar el rendimiento."
   ]
  },
  {
   "cell_type": "code",
   "execution_count": 22,
   "metadata": {},
   "outputs": [
    {
     "data": {
      "text/plain": [
       "DataFrame[AT: double, V: double, AP: double, RH: double, PE: double]"
      ]
     },
     "execution_count": 22,
     "metadata": {},
     "output_type": "execute_result"
    }
   ],
   "source": [
    "# TODO: Replace <FILL_IN> with the appropriate code.\n",
    "# We'll hold out 20% of our data for testing and leave 80% for training\n",
    "seed=1800009193\n",
    "(testSetDF,trainingSetDF) = datasetDF.randomSplit([0.2, 0.8], seed=seed)\n",
    "\n",
    "# Let's cache these datasets for performance\n",
    "trainingSetDF.cache()\n",
    "testSetDF.cache()"
   ]
  },
  {
   "cell_type": "code",
   "execution_count": 23,
   "metadata": {},
   "outputs": [],
   "source": [
    "# TEST\n",
    "assert trainingSetDF.count()== 38317, \"Incorrect size for training data set\"\n",
    "assert testSetDF.count()== 9523, \"Incorrect size for test data set\""
   ]
  },
  {
   "cell_type": "markdown",
   "metadata": {},
   "source": [
    "A continuacion vamos a crear un modelo de regresion lineal y utilizar su ayda para entender como entrenarlo. Ver la API de [Linear Regression](https://spark.apache.org/docs/latest/api/python/pyspark.ml.html#pyspark.ml.regression.LinearRegression) para mas detalles.\n",
    "\n",
    "### Ejercicio 5(b)\n",
    "\n",
    "- Lee la documentacion y los ejemplos de [Linear Regression](https://spark.apache.org/docs/latest/ml-classification-regression.html#linear-regression)\n",
    "- Ejecuta la siguiente celda"
   ]
  },
  {
   "cell_type": "code",
   "execution_count": 24,
   "metadata": {},
   "outputs": [
    {
     "name": "stdout",
     "output_type": "stream",
     "text": [
      "aggregationDepth: suggested depth for treeAggregate (>= 2). (default: 2)\n",
      "elasticNetParam: the ElasticNet mixing parameter, in range [0, 1]. For alpha = 0, the penalty is an L2 penalty. For alpha = 1, it is an L1 penalty. (default: 0.0)\n",
      "epsilon: The shape parameter to control the amount of robustness. Must be > 1.0. Only valid when loss is huber (default: 1.35)\n",
      "featuresCol: features column name. (default: features)\n",
      "fitIntercept: whether to fit an intercept term. (default: True)\n",
      "labelCol: label column name. (default: label)\n",
      "loss: The loss function to be optimized. Supported options: squaredError, huber. (default: squaredError)\n",
      "maxBlockSizeInMB: maximum memory in MB for stacking input data into blocks. Data is stacked within partitions. If more than remaining data size in a partition then it is adjusted to the data size. Default 0.0 represents choosing optimal value, depends on specific algorithm. Must be >= 0. (default: 0.0)\n",
      "maxIter: max number of iterations (>= 0). (default: 100)\n",
      "predictionCol: prediction column name. (default: prediction)\n",
      "regParam: regularization parameter (>= 0). (default: 0.0)\n",
      "solver: The solver algorithm for optimization. Supported options: auto, normal, l-bfgs. (default: auto)\n",
      "standardization: whether to standardize the training features before fitting the model. (default: True)\n",
      "tol: the convergence tolerance for iterative algorithms (>= 0). (default: 1e-06)\n",
      "weightCol: weight column name. If this is not set or empty, we treat all instance weights as 1.0. (undefined)\n"
     ]
    }
   ],
   "source": [
    "# ***** LINEAR REGRESSION MODEL ****\n",
    "\n",
    "from pyspark.ml.regression import LinearRegression\n",
    "from pyspark.ml.regression import LinearRegressionModel\n",
    "from pyspark.ml import Pipeline\n",
    "\n",
    "# Let's initialize our linear regression learner\n",
    "lr = LinearRegression()\n",
    "\n",
    "# We use explain params to dump the parameters we can use\n",
    "print(lr.explainParams())"
   ]
  },
  {
   "cell_type": "markdown",
   "metadata": {},
   "source": [
    "La siguiente celda esta basada en [Spark ML Pipeline API for Linear Regression](https://spark.apache.org/docs/latest/api/python/pyspark.ml.html#pyspark.ml.regression.LinearRegression).\n",
    "\n",
    "El primer paso es establecer los valores de los parametros siguientes:\n",
    "- Define el nombre de la columna a donde guardaremos la prediccion como \"Predicted_PE\"\n",
    "- Define el nombre de la columna que contiene la etiqueta como \"PE\"\n",
    "- Define el numero maximo de iteraciones a 100\n",
    "- Define el parametro de regularizacion a 0.1\n",
    "\n",
    "Ahora, crearemos el [ML Pipeline](https://spark.apache.org/docs/latest/api/python/pyspark.ml.html#pyspark.ml.Pipeline) (flujo de ejecucion) y estableceremos las fases del pipeline como vectorizar y posteriormente aplicar el regresor lineal que hemos definido.\n",
    "\n",
    "Finalmente, crearemos el modelo entrenandolo con el DataFrame `trainingSetDF`.\n",
    "\n",
    "### Ejercicio 5(c)\n",
    "\n",
    "- Lee la documentacion [Linear Regression](https://spark.apache.org/docs/latest/api/python/pyspark.ml.html#pyspark.ml.regression.LinearRegression) documentation\n",
    "- Completa y ejecuta la siguiente celda introduciendo los parámetros descritos para nuestra regresion."
   ]
  },
  {
   "cell_type": "code",
   "execution_count": 25,
   "metadata": {},
   "outputs": [
    {
     "name": "stdout",
     "output_type": "stream",
     "text": [
      "23/03/13 22:47:26 WARN InstanceBuilder$JavaBLAS: Failed to load implementation from:dev.ludovic.netlib.blas.VectorBLAS\n",
      "23/03/13 22:47:26 WARN InstanceBuilder$NativeBLAS: Failed to load implementation from:dev.ludovic.netlib.blas.JNIBLAS\n",
      "23/03/13 22:47:26 WARN InstanceBuilder$NativeBLAS: Failed to load implementation from:dev.ludovic.netlib.blas.ForeignLinkerBLAS\n",
      "23/03/13 22:47:27 WARN InstanceBuilder$NativeLAPACK: Failed to load implementation from:dev.ludovic.netlib.lapack.JNILAPACK\n"
     ]
    }
   ],
   "source": [
    "## TODO: Replace <FILL_IN> with the appropriate code\n",
    "# Now we set the parameters for the method\n",
    "lr.setPredictionCol(\"Predicted_PE\")\\\n",
    "  .setLabelCol(\"PE\")\\\n",
    "  .setMaxIter(100)\\\n",
    "  .setRegParam(0.1)\n",
    "\n",
    "# We will use the new spark.ml pipeline API. If you have worked with scikit-learn this will be very familiar.\n",
    "lrPipeline = Pipeline()\n",
    "\n",
    "lrPipeline.setStages([vectorizer, lr])\n",
    "\n",
    "# Let's first train on the entire dataset to see what we get\n",
    "lrModel = lrPipeline.fit(trainingSetDF)"
   ]
  },
  {
   "cell_type": "markdown",
   "metadata": {},
   "source": [
    "Del articulo de Wikipedia [Linear Regression](https://en.wikipedia.org/wiki/Linear_regression) podemos leer:\n",
    "> In statistics, linear regression is an approach for modeling the relationship between a scalar dependent variable \\\\( y \\\\) and one or more explanatory variables (or independent variables) denoted \\\\(X\\\\). In linear regression, the relationships are modeled using linear predictor functions whose unknown model parameters are estimated from the data. Such models are called linear models.\n",
    "\n",
    "Los modelos de regresion lineal tienen muchos usos practicos. La mayoria de los cuales se clasifican en de las siguientes dos categorias:\n",
    "- Si el objetivo es la prediccion o la reduccion de errores, la regresion lineal puede utilizarse para adaptar un modelo predictivo a un conjunto de datos observados \\\\(y\\\\) y \\\\(X\\\\). Despues de desarrollar un modelo de este tipo, dado un cierto valor  \\\\( X\\\\) del que no conocemos su valor de \\\\(y \\\\), el modelo ajustado se puede utilizarse para hacer una prediccion del valor del posible valor \\\\(y \\\\).\n",
    "- Dada una variable \\\\(y\\\\) y un numero de variables \\\\( X_1 \\\\), ..., \\\\( X_p \\\\) que pueden estar relacionadas con \\\\(y\\\\), un analisis de regresion lineal puede ser aplicado a cuantificar como de fuerte es la relacion entre \\\\(y\\\\) y cada \\\\( X_j\\\\), para evaluar que \\\\( X_j \\\\) puede no tener ninguna relacion con \\\\(y\\\\), y de esta forma identificar que subconjuntos de \\\\( X_j \\\\) contienen informacion redundante sobre \\\\(y\\\\).\n",
    "\n",
    "Como estamos interesados en ambos usos, nos gustaria para predecir la potencia de salida en funcion de las variables de entrada, y nos gustaria saber cuales de las variables de entrada estan debilmente o fuertemente correlacionadas con la potencia de salida.\n",
    "\n",
    "Ya que una regresion lineal tan solo calcula la linea que minimiza el error cuadratico medio en el dataset de entrenamiento, dadas multiples dimensiones de entrada podemos expresar cada predictor como una funcion lineal en la forma:\n",
    "\n",
    "\\\\[ y = a + b x_1 + b x_2 + b x_i ... \\\\]\n",
    "\n",
    "donde \\\\(a\\\\) es el intercept (valor para el punto 0) y las \\\\(b\\\\) son los coeficientes.\n",
    "\n",
    "Para expresar los coeficientes de esa linea podemos recuperar la etapa del Estimador del Modelo del pipeline y de expresar los pesos y el intercept de la funcion.\n",
    "\n",
    "### Ejercicio 5(d)\n",
    "\n",
    "Ejecuta la celda siguiente y asegurate que entiendes lo que sucede."
   ]
  },
  {
   "cell_type": "code",
   "execution_count": 26,
   "metadata": {},
   "outputs": [
    {
     "name": "stdout",
     "output_type": "stream",
     "text": [
      "Linear Regression Equation: y = 435.5639193766074 - (1.9173221801525955 * AT) - (0.2548382419437203 * V) + (0.08003570885266557 * AP) - (0.14707064759012597 * RH)\n"
     ]
    }
   ],
   "source": [
    "# The intercept is as follows:\n",
    "intercept = lrModel.stages[1].intercept\n",
    "\n",
    "# The coefficents (i.e., weights) are as follows:\n",
    "weights = lrModel.stages[1].coefficients\n",
    "\n",
    "# Create a list of the column names (without PE)\n",
    "featuresNoLabel = [col for col in datasetDF.columns if col != \"PE\"]\n",
    "\n",
    "# Merge the weights and labels\n",
    "coefficents = zip(weights, featuresNoLabel)\n",
    "\n",
    "equation = \"y = {intercept}\".format(intercept=intercept)\n",
    "variables = []\n",
    "for x in coefficents:\n",
    "    weight = abs(x[0])\n",
    "    name = x[1]\n",
    "    symbol = \"+\" if (x[0] > 0) else \"-\"\n",
    "    equation += (\" {} ({} * {})\".format(symbol, weight, name))\n",
    "\n",
    "# Finally here is our equation\n",
    "print(\"Linear Regression Equation: \" + equation)"
   ]
  },
  {
   "cell_type": "markdown",
   "metadata": {},
   "source": [
    "Que obtenemos como resultado de esta ejecución?\n",
    "\n",
    "\n",
    "### Ejercicio 5(e)\n",
    "\n",
    "Ahora estudiaremos como se comportan nuestras predicciones en este modelo. Aplicamos nuestro modelo de regresion lineal para el 20% de los datos que hemos separado del conjunto de datos de entrada. La salida del modelo sera una columna de produccion de electricidad teorica llamada \"Predicted_PE\".\n",
    "\n",
    "- Ejecuta la siguiente celda\n",
    "- Desplazate por la tabla de resultados y observa como los valores de la columna de salida de corriente (PE) se comparan con los valores correspondientes en la salida de potencia predecida  (Predicted_PE)"
   ]
  },
  {
   "cell_type": "code",
   "execution_count": 27,
   "metadata": {},
   "outputs": [
    {
     "name": "stdout",
     "output_type": "stream",
     "text": [
      "+----+-----+-------+-----+------+------------------+\n",
      "|  AT|    V|     AP|   RH|    PE|      Predicted_PE|\n",
      "+----+-----+-------+-----+------+------------------+\n",
      "|1.81|39.42|1026.92|76.97|490.55|492.91808512307705|\n",
      "|2.34|39.42|1028.47|69.68|490.34|493.09810473724986|\n",
      "|2.71|39.42|1026.66|81.11| 489.3| 490.5628133956149|\n",
      "| 3.0|39.64| 1011.0|80.14| 485.2| 488.8400248776727|\n",
      "|3.21|38.44| 1016.9|86.34|491.35|488.30356577734506|\n",
      "|3.21|38.44|1017.11|84.86|492.93| 488.5380378346375|\n",
      "|3.21|38.44|1017.11|84.86|492.93| 488.5380378346375|\n",
      "|3.31|39.42|1024.05|84.31|487.19| 488.7329008151295|\n",
      "|3.38|39.64| 1011.0|81.22|488.92|487.95260614981737|\n",
      "|3.38|41.31| 998.79|97.76|489.11|484.11724176953965|\n",
      "|3.51|35.47|1017.53|86.56|489.07| 488.5033056559795|\n",
      "| 3.6|35.19|1018.73| 99.1|488.98|486.65387829735306|\n",
      "|3.63|38.44|1016.16|87.38|487.87|487.28611056363627|\n",
      "|3.68|39.64|1011.31|84.05|490.02|486.98601063283587|\n",
      "|3.69|38.44|1016.74|82.87|490.78| 487.8807805645931|\n",
      "|3.69|38.44|1016.74|82.87|490.78| 487.8807805645931|\n",
      "|3.73|39.42| 1024.4|82.42|488.58| 488.2336015215092|\n",
      "|3.74|35.19|1018.58|98.84| 490.5| 486.4116862041772|\n",
      "|3.82|35.47|1016.62|84.34|489.04|488.16260012272636|\n",
      "|3.82|35.47|1016.62|84.34|489.04|488.16260012272636|\n",
      "+----+-----+-------+-----+------+------------------+\n",
      "only showing top 20 rows\n",
      "\n"
     ]
    }
   ],
   "source": [
    "# Apply our LR model to the test data and predict power output\n",
    "predictionsAndLabelsDF = lrModel.transform(testSetDF).select(\"AT\", \"V\", \"AP\", \"RH\", \"PE\", \"Predicted_PE\")\n",
    "\n",
    "predictionsAndLabelsDF.show()"
   ]
  },
  {
   "cell_type": "markdown",
   "metadata": {},
   "source": [
    "A partir de una inspección visual de las predicciones, podemos ver que están cerca de los valores reales.\n",
    "\n",
    "Sin embargo, nos gustaría disponer de una medida científica exacta de la bondad del modelo. Para realizar esta medición, podemos utilizar una métrica de evaluación como la [Error cuadrático medio](https://en.wikipedia.org/wiki/Root-mean-square_deviation) (RMSE) para validar nuestro modelo.\n",
    "\n",
    "RSME se define como: \\\\( RMSE = \\sqrt{\\frac{\\sum_{i = 1}^{n} (x_i - y_i)^2}{n}}\\\\) donde \\\\(y_i\\\\) es el valor observado \\\\(x_i\\\\) es el valor predicho\n",
    "\n",
    "RMSE es una medida muy habitual para calcular las diferencias entre los valores predichos por un modelo o un estimador y los valores realmente observados. Cuanto menor sea el RMSE, mejor será nuestro modelo.\n",
    "\n",
    "Spark ML Pipeline proporciona diferentes métricas para evaluar modelos de regresión, incluyendo [RegressionEvaluator()](https://spark.apache.org/docs/latest/api/python/pyspark.ml.html#pyspark.ml.evaluation.RegressionEvaluator).\n",
    "\n",
    "Después de crear una instancia de [RegressionEvaluator](https://spark.apache.org/docs/latest/api/python/pyspark.ml.html#pyspark.ml.evaluation.RegressionEvaluator), fijaremos el nombre de la columna objetivo \"PE\" y  el nombre de la columna de predicción a \"Predicted_PE\". A continuación, invocaremos el evaluador en las predicciones.\n",
    "\n",
    "### Ejercicio 5(f)\n",
    "Completa y ejecuta la celda siguiente:"
   ]
  },
  {
   "cell_type": "code",
   "execution_count": 28,
   "metadata": {},
   "outputs": [
    {
     "name": "stdout",
     "output_type": "stream",
     "text": [
      "Root Mean Squared Error: 4.46\n"
     ]
    }
   ],
   "source": [
    "# Now let's compute an evaluation metric for our test dataset\n",
    "from pyspark.ml.evaluation import RegressionEvaluator\n",
    "\n",
    "# Create an RMSE evaluator using the label and predicted columns\n",
    "regEval = RegressionEvaluator(predictionCol=\"Predicted_PE\", labelCol=\"PE\", metricName=\"rmse\")\n",
    "\n",
    "# Run the evaluator on the DataFrame\n",
    "rmse = regEval.evaluate(predictionsAndLabelsDF)\n",
    "\n",
    "print(\"Root Mean Squared Error: %.2f\" % rmse)"
   ]
  },
  {
   "cell_type": "markdown",
   "metadata": {},
   "source": [
    "Que resultado de RMSE hemos obtenido?"
   ]
  },
  {
   "cell_type": "markdown",
   "metadata": {},
   "source": [
    "Otra medida de evaluación estadística muy útil es el coeficiente de determinación, que se denota \\\\(R ^ 2 \\\\) o \\\\(r ^ 2\\\\) y pronunciado \"R cuadrado\". Es un número que indica la proporción de la variación en la variable dependiente que es predecible a partir de las variables independientes y proporciona una medida de lo bien que los resultados observados son replicados por el modelo, basado en la proporción de la variación total de los resultados explicada por el modelo. El coeficiente de determinación va de 0 a 1 (más cerca de 1), y cuanto mayor sea el valor, mejor es nuestro modelo.\n",
    "\n",
    "\n",
    "Para calcular \\\\(r^2\\\\), hemos de ejecutar el evaluador `regEval.metricName: \"r2\"`\n",
    "\n",
    "Vamos a calcularlo ejecutando la celda siguiente."
   ]
  },
  {
   "cell_type": "code",
   "execution_count": 29,
   "metadata": {},
   "outputs": [
    {
     "name": "stdout",
     "output_type": "stream",
     "text": [
      "r2: 0.93\n"
     ]
    }
   ],
   "source": [
    "# Now let's compute another evaluation metric for our test dataset\n",
    "r2 = regEval.evaluate(predictionsAndLabelsDF, {regEval.metricName: \"r2\"})\n",
    "\n",
    "print(\"r2: {0:.2f}\".format(r2))"
   ]
  },
  {
   "cell_type": "markdown",
   "metadata": {},
   "source": [
    "Que resultado de \\\\(r^2\\\\) hemos obtenido? A partir de dicho parametro, crees que el modelo calculado se ajusta bien a los datos?\n",
    "\n"
   ]
  },
  {
   "cell_type": "markdown",
   "metadata": {},
   "source": [
    "En general, suponiendo una distribución Gaussiana de errores, un buen modelo tendrá 68% de las predicciones dentro de 1 RMSE y 95% dentro de 2 RMSE del valor real (ver http://statweb.stanford.edu/~susan/courses/s60/split/node60.html).\n",
    "\n",
    "Vamos a examinar las predicciones y ver si un RMSE como el obtenido cumple este criterio.\n",
    "\n",
    "Crearemos un nuevo DataFrame usando [selectExpr()](https://spark.apache.org/docs/latest/api/python/pyspark.sql.html#pyspark.sql.DataFrame.selectExpr) para generar un conjunto de expresiones SQL, y registrar el DataFrame como una tabla de SQL utilizando [registerTempTable()](https://spark.apache.org/docs/latest/api/python/pyspark.sql.html#pyspark.sql.DataFrame.registerTempTable).\n",
    "\n",
    "### Ejercicio 5(g)\n",
    "\n",
    "Ejecuta la celda siguiente y asegúrate que entiendes lo que sucede."
   ]
  },
  {
   "cell_type": "code",
   "execution_count": 30,
   "metadata": {},
   "outputs": [
    {
     "name": "stderr",
     "output_type": "stream",
     "text": [
      "/Users/gerardmartinez/opt/anaconda3/lib/python3.9/site-packages/pyspark/sql/dataframe.py:229: FutureWarning: Deprecated in 2.0, use createOrReplaceTempView instead.\n",
      "  warnings.warn(\"Deprecated in 2.0, use createOrReplaceTempView instead.\", FutureWarning)\n"
     ]
    }
   ],
   "source": [
    "# First we remove the table if it already exists\n",
    "\n",
    "# Next we calculate the residual error and divide it by the RMSE\n",
    "predictionsAndLabelsDF.selectExpr(\"PE\", \"Predicted_PE\", \"PE - Predicted_PE Residual_Error\", \"(PE - Predicted_PE) / {} Within_RSME\".format(rmse)).registerTempTable(\"Power_Plant_RMSE_Evaluation\")"
   ]
  },
  {
   "cell_type": "markdown",
   "metadata": {},
   "source": [
    "Podemos utilizar sentencias SQL para explorar la tabla `Power_Plant_RMSE_Evaluation`. En primer lugar vamos a ver qué datos en la tabla utilizando una sentencia SELECT de SQL.\n",
    "\n",
    "Completa la siguiente consulta para que devuelva los elementos de la tabla `Power_Plant_RMSE_Evaluation` y muestra algunos por pantalla con la acción show()."
   ]
  },
  {
   "cell_type": "code",
   "execution_count": 31,
   "metadata": {},
   "outputs": [
    {
     "name": "stdout",
     "output_type": "stream",
     "text": [
      "+------+------------------+-------------------+--------------------+\n",
      "|    PE|      Predicted_PE|     Residual_Error|         Within_RSME|\n",
      "+------+------------------+-------------------+--------------------+\n",
      "|490.55|492.91808512307705|-2.3680851230770372| -0.5305953545643743|\n",
      "|490.34|493.09810473724986|  -2.75810473724988| -0.6179835119631268|\n",
      "| 489.3| 490.5628133956149|-1.2628133956148986|-0.28294714360786566|\n",
      "| 485.2| 488.8400248776727|-3.6400248776727153| -0.8155873586513247|\n",
      "|491.35|488.30356577734506|  3.046434222654966|  0.6825868845568823|\n",
      "|492.93| 488.5380378346375|  4.391962165362486|  0.9840671264957801|\n",
      "|492.93| 488.5380378346375|  4.391962165362486|  0.9840671264957801|\n",
      "|487.19| 488.7329008151295|-1.5429008151294852| -0.3457037912545762|\n",
      "|488.92|487.95260614981737| 0.9673938501826456|   0.216755165571959|\n",
      "|489.11|484.11724176953965| 4.9927582304603675|  1.1186820514724956|\n",
      "+------+------------------+-------------------+--------------------+\n",
      "only showing top 10 rows\n",
      "\n"
     ]
    }
   ],
   "source": [
    "sqlContext.sql(\"SELECT * FROM Power_Plant_RMSE_Evaluation\").show(10)\n"
   ]
  },
  {
   "cell_type": "markdown",
   "metadata": {},
   "source": [
    "### Ejercicio 5(h)\n",
    "\n",
    "Mostrad el RMSE como un histograma.\n",
    "https://matplotlib.org/3.1.1/api/_as_gen/matplotlib.pyplot.hist.html\n",
    "\n",
    "Puedes jugar con los diferentes parámetros del histograma como el numero de 'bins' o el parámetro densidad, que cambia entre el 'contaje' de elementos en cada bin o la normalización para que el area del histograma sea 1.\n",
    "De forma similar al ejercicio 3, toma una muestra aleatoria de 2000 elementos y haz un collect para hacer el plot."
   ]
  },
  {
   "cell_type": "code",
   "execution_count": 32,
   "metadata": {},
   "outputs": [
    {
     "data": {
      "image/png": "[encoded data removed]",
      "text/plain": [
       "<Figure size 432x288 with 1 Axes>"
      ]
     },
     "metadata": {
      "needs_background": "light"
     },
     "output_type": "display_data"
    }
   ],
   "source": [
    "import numpy as np\n",
    "import pandas as pd\n",
    "import matplotlib.pyplot as plt\n",
    "# Completamos la consulta SQL\n",
    "df_x = sqlContext.sql(\"SELECT * FROM Power_Plant_RMSE_Evaluation\")\n",
    "\n",
    "#MATPLOTLIB \n",
    "#LO PODÉIS MODIFICAR PARA QUE PODÁIS MOSTRAR LA DISTRIBUCIÓN EN HISTOGRAMA DE RSME\n",
    "#ESTO ES SOLO UNA BASE, PERO HAY MANERAS DIFERENTES\n",
    "\n",
    "# Generamos el histograma\n",
    "x = pd.DataFrame(df_x.select(\"Within_RSME\").take(2000)).to_numpy()\n",
    "num_bins = 50\n",
    "plt.hist(x, num_bins, density=True)\n",
    "plt.xlabel('RMSE')\n",
    "plt.ylabel('Density')\n",
    "plt.title('Histogram of RMSE')\n",
    "plt.show()"
   ]
  },
  {
   "cell_type": "markdown",
   "metadata": {},
   "source": [
    "Observa que el histograma deberia mostrar claramente que el RMSE se centra alrededor de 0 con la gran mayoría de errores dentro de 2 RMSE.\n",
    "\n",
    "Usando una instrucción SELECT de SQL un poco más compleja, podemos contar el número de predicciones dentro de + o - 1,0 y + o - 2,0.\n",
    "\n",
    "Cuantas predicciones estan dentro de cada uno de los intervalos (+-1 RSME, +-2RSME y más allá)? Completad la parte de código que falta para poder averiguarlo."
   ]
  },
  {
   "cell_type": "code",
   "execution_count": 33,
   "metadata": {},
   "outputs": [
    {
     "name": "stdout",
     "output_type": "stream",
     "text": [
      "+-------------+-----+\n",
      "|RSME_Multiple|count|\n",
      "+-------------+-----+\n",
      "|            1| 6428|\n",
      "|            3|  303|\n",
      "|            2| 2792|\n",
      "+-------------+-----+\n",
      "\n"
     ]
    }
   ],
   "source": [
    "df_y=sqlContext.sql(\"SELECT case when Within_RSME <= 1.0 AND Within_RSME >= -1.0 then 1 when  Within_RSME <= 2.0 AND Within_RSME >= -2.0 then 2 else 3 end RSME_Multiple, COUNT(*) AS count FROM Power_Plant_RMSE_Evaluation GROUP BY case when Within_RSME <= 1.0 AND Within_RSME >= -1.0 then 1  when  Within_RSME <= 2.0 AND Within_RSME >= -2.0 then 2 else 3 end\")\n",
    "\n",
    "# Visionamos el resultado de la instrucción.\n",
    "df_y.show()"
   ]
  },
  {
   "cell_type": "markdown",
   "metadata": {},
   "source": [
    "- ¿Cuantas predicciones estan a 1 RMSE como máximo de los valores reales?\n",
    "- ¿Y cuantas predicciones estan a 2 RMSE como máximo de los valores reales?"
   ]
  },
  {
   "cell_type": "markdown",
   "metadata": {},
   "source": [
    "## Responde las siguientes preguntas\n",
    "NOTA: Puedes responder generando nuevas celdas de texto. Indica claramente que se trata de la respuesta a cada una de las preguntas."
   ]
  },
  {
   "cell_type": "markdown",
   "metadata": {},
   "source": [
    "#### - ¿A partir de los resultados del ejercicio 5, te parece que el modelo ajusta bien los datos?\n",
    "A partir de los resultados obtenidos en el ejercicio 5, parece que el modelo ajusta bastante bien los datos.<br> El RMSE obtenido es relativamente bajo (en torno a 4), lo que indica que las predicciones del modelo<br> se alejan en promedio unas 4 unidades de los valores reales. Además, el histograma del RMSE muestra una distribución<br> centrada en torno a 0, con la gran mayoría de los errores dentro de 2 RMSE. Además, el número de predicciones<br> dentro de ±1 RMSE y ±2 RMSE es alto en comparación con el número de predicciones que se alejan aún más de los<br> valores reales. Por lo tanto, podemos concluir que el modelo ajusta bien los datos y es capaz de realizar<br> predicciones precisas en la mayoría de los casos."
   ]
  },
  {
   "cell_type": "markdown",
   "metadata": {},
   "source": [
    "#### ¿Qué otras técnicas de regresión usaríais a partir del análisis de datos del apartado 3? ¿Estan todas disponibles en Spark? ¿Y si no es el caso, qué otros librarias y herramientas de Machine Learning podriamos usar?\n",
    "\n",
    "Se podría utilizar una variedad de técnicas de regresión en función de los resultados del análisis de datos,<br>\n",
    "incluyendo modelos de árbol de decisión, regresión lineal polinómica y redes neuronales. Spark ofrece algunas<br>\n",
    "de estas técnicas, pero no todas. Si no están disponibles en Spark, se pueden utilizar otras bibliotecas y<br>\n",
    "herramientas de aprendizaje automático como <b> scikit-learn o TensorFlow</b>"
   ]
  }
 ],
 "metadata": {
  "kernelspec": {
   "display_name": "Python 3 (ipykernel)",
   "language": "python",
   "name": "python3"
  },
  "language_info": {
   "codemirror_mode": {
    "name": "ipython",
    "version": 3
   },
   "file_extension": ".py",
   "mimetype": "text/x-python",
   "name": "python",
   "nbconvert_exporter": "python",
   "pygments_lexer": "ipython3",
   "version": "3.9.12"
  },
  "name": "Lab_2_ML_pipeline",
  "notebookId": 296256117212061
 },
 "nbformat": 4,
 "nbformat_minor": 4
}
